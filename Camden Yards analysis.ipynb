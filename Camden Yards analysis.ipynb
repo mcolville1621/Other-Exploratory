{
 "cells": [
  {
   "cell_type": "markdown",
   "id": "50270ba9",
   "metadata": {},
   "source": [
    "# What has the impact of the new wall been in Camden Yards"
   ]
  },
  {
   "cell_type": "code",
   "execution_count": 1,
   "id": "cc65c466",
   "metadata": {},
   "outputs": [],
   "source": [
    "from pybaseball import team_game_logs, spraychart ,statcast"
   ]
  },
  {
   "cell_type": "code",
   "execution_count": 45,
   "id": "72e6690f",
   "metadata": {},
   "outputs": [],
   "source": [
    "tot_2021 = team_game_logs(2021,\"BAL\").query('Home == True')\n",
    "tot_2022 = team_game_logs(2022,\"BAL\").query('Home == True')"
   ]
  },
  {
   "cell_type": "code",
   "execution_count": 49,
   "id": "b9fdf5aa",
   "metadata": {},
   "outputs": [],
   "source": [
    "gms_2021 = tot_2021.shape[0]\n",
    "gms_2022 = tot_2022.shape[0]"
   ]
  },
  {
   "cell_type": "code",
   "execution_count": 53,
   "id": "6f97ec57",
   "metadata": {},
   "outputs": [
    {
     "data": {
      "text/plain": [
       "1.125"
      ]
     },
     "execution_count": 53,
     "metadata": {},
     "output_type": "execute_result"
    }
   ],
   "source": [
    "HR_2022=tot_2022[\"HR\"].sum()\n",
    "HR_2022/gms_2022"
   ]
  },
  {
   "cell_type": "code",
   "execution_count": 52,
   "id": "46db6fac",
   "metadata": {},
   "outputs": [
    {
     "data": {
      "text/plain": [
       "0.9012345679012346"
      ]
     },
     "execution_count": 52,
     "metadata": {},
     "output_type": "execute_result"
    }
   ],
   "source": [
    "HR_2021=tot_2021[\"HR\"].sum()\n",
    "HR_2021/gms_2021"
   ]
  },
  {
   "cell_type": "markdown",
   "id": "136018c0",
   "metadata": {},
   "source": [
    "# The toal HR/Game in the stadium is slightly different"
   ]
  },
  {
   "cell_type": "code",
   "execution_count": 2,
   "id": "de843fa2",
   "metadata": {},
   "outputs": [
    {
     "name": "stdout",
     "output_type": "stream",
     "text": [
      "This is a large query, it may take a moment to complete\n"
     ]
    },
    {
     "name": "stderr",
     "output_type": "stream",
     "text": [
      "C:\\Users\\Owner\\anaconda3\\lib\\site-packages\\pybaseball\\statcast.py:50: UserWarning: \n",
      "That's a nice request you got there. It'd be a shame if something were to happen to it.\n",
      "We strongly recommend that you enable caching before running this. It's as simple as `pybaseball.cache.enable()`.\n",
      "Since the Statcast requests can take a *really* long time to run, if something were to happen, like: a disconnect;\n",
      "gremlins; computer repair by associates of Rudy Giuliani; electromagnetic interference from metal trash cans; etc.;\n",
      "you could lose a lot of progress. Enabling caching will allow you to immediately recover all the successful\n",
      "subqueries if that happens.\n",
      "  warnings.warn(_OVERSIZE_WARNING)\n",
      "100%|██████████| 130/130 [00:48<00:00,  2.68it/s]\n"
     ]
    }
   ],
   "source": [
    "data = statcast('2022-04-01', '2022-08-08')"
   ]
  },
  {
   "cell_type": "code",
   "execution_count": 14,
   "id": "8d353d9d",
   "metadata": {},
   "outputs": [
    {
     "data": {
      "text/plain": [
       "home_run    57\n",
       "Name: events, dtype: int64"
      ]
     },
     "execution_count": 14,
     "metadata": {},
     "output_type": "execute_result"
    }
   ],
   "source": [
    "data_2022 = data.query('events == \"home_run\"')\n",
    "data_2022 = data_2022[data_2022['hc_x'] < 130]\n",
    "home_data_2022 = data_2022[data_2022['home_team'] == 'BAL']\n",
    "home_data_2022[\"events\"].value_counts()"
   ]
  },
  {
   "cell_type": "code",
   "execution_count": 54,
   "id": "2e30357a",
   "metadata": {},
   "outputs": [
    {
     "name": "stdout",
     "output_type": "stream",
     "text": [
      "This is a large query, it may take a moment to complete\n"
     ]
    },
    {
     "name": "stderr",
     "output_type": "stream",
     "text": [
      "C:\\Users\\Owner\\anaconda3\\lib\\site-packages\\pybaseball\\statcast.py:50: UserWarning: \n",
      "That's a nice request you got there. It'd be a shame if something were to happen to it.\n",
      "We strongly recommend that you enable caching before running this. It's as simple as `pybaseball.cache.enable()`.\n",
      "Since the Statcast requests can take a *really* long time to run, if something were to happen, like: a disconnect;\n",
      "gremlins; computer repair by associates of Rudy Giuliani; electromagnetic interference from metal trash cans; etc.;\n",
      "you could lose a lot of progress. Enabling caching will allow you to immediately recover all the successful\n",
      "subqueries if that happens.\n",
      "  warnings.warn(_OVERSIZE_WARNING)\n",
      "100%|██████████| 130/130 [00:43<00:00,  2.98it/s]\n"
     ]
    }
   ],
   "source": [
    "data1 = statcast('2021-04-01', '2021-08-08')"
   ]
  },
  {
   "cell_type": "code",
   "execution_count": 55,
   "id": "336765bb",
   "metadata": {},
   "outputs": [
    {
     "data": {
      "text/plain": [
       "home_run    95\n",
       "Name: events, dtype: int64"
      ]
     },
     "execution_count": 55,
     "metadata": {},
     "output_type": "execute_result"
    }
   ],
   "source": [
    "data_2021 = data1.query('events == \"home_run\"')\n",
    "data_2021 = data_2021[data_2021['hc_x'] < 130]\n",
    "home_data_2021 = data_2021[data_2021['home_team'] == 'BAL']\n",
    "home_data_2021[\"events\"].value_counts()"
   ]
  },
  {
   "cell_type": "code",
   "execution_count": 56,
   "id": "a28e643e",
   "metadata": {},
   "outputs": [
    {
     "data": {
      "text/plain": [
       "44"
      ]
     },
     "execution_count": 56,
     "metadata": {},
     "output_type": "execute_result"
    }
   ],
   "source": [
    "home_data_2021['game_date'].nunique()"
   ]
  },
  {
   "cell_type": "code",
   "execution_count": 58,
   "id": "75823679",
   "metadata": {},
   "outputs": [
    {
     "data": {
      "text/plain": [
       "2.159090909090909"
      ]
     },
     "execution_count": 58,
     "metadata": {},
     "output_type": "execute_result"
    }
   ],
   "source": [
    "95/44"
   ]
  },
  {
   "cell_type": "code",
   "execution_count": 57,
   "id": "40728263",
   "metadata": {},
   "outputs": [
    {
     "data": {
      "text/plain": [
       "27"
      ]
     },
     "execution_count": 57,
     "metadata": {},
     "output_type": "execute_result"
    }
   ],
   "source": [
    "home_data_2022[\"game_date\"].nunique()"
   ]
  },
  {
   "cell_type": "code",
   "execution_count": 59,
   "id": "e302930b",
   "metadata": {},
   "outputs": [
    {
     "data": {
      "text/plain": [
       "2.111111111111111"
      ]
     },
     "execution_count": 59,
     "metadata": {},
     "output_type": "execute_result"
    }
   ],
   "source": [
    "57/27"
   ]
  },
  {
   "cell_type": "markdown",
   "id": "0944f625",
   "metadata": {},
   "source": [
    "# Total HR is more last year up until now because there were almost double the amount of games in BAL. The HR per game in Left-Left Center is almost Identical"
   ]
  }
 ],
 "metadata": {
  "kernelspec": {
   "display_name": "Python 3",
   "language": "python",
   "name": "python3"
  },
  "language_info": {
   "codemirror_mode": {
    "name": "ipython",
    "version": 3
   },
   "file_extension": ".py",
   "mimetype": "text/x-python",
   "name": "python",
   "nbconvert_exporter": "python",
   "pygments_lexer": "ipython3",
   "version": "3.8.8"
  }
 },
 "nbformat": 4,
 "nbformat_minor": 5
}
